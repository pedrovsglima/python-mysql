{
 "cells": [
  {
   "cell_type": "markdown",
   "id": "angry-approach",
   "metadata": {},
   "source": [
    "### Python + MySQL\n",
    "\n",
    "#### Objetivo\n",
    "\n",
    "Criar um projeto onde seja possível utilizar ambos os recursos do MySQL e da linguagem Python.\n",
    "\n",
    "#### Base de dados\n",
    "\n",
    "Esta base de dados consiste em notas obtidas por alunos em várias disciplinas. Nela estão inclusas pontuações em três exames e uma variedade de fatores pessoais, sociais e econômicos que podem ter efeitos de interação sobre eles.\n",
    "\n",
    "    Atributos:\n",
    "- <u>gender</u>: sexo biológico ('female' ou 'male');\n",
    "- <u>race/ethnicity</u>: etnia ('group A', 'group B', 'group C', 'group D' ou 'group E');\n",
    "- <u>parental level of education</u>: escolaridade dos pais ('bachelor's degree', 'some college', 'master's degree', 'associate's degree', 'high school' ou 'some high school');\n",
    "- <u>lunch</u>: tipo de almoço ('standard' ou 'free/reduced');\n",
    "- <u>test preparation course</u>: curso de preparação para o teste ('none' ou 'completed');\n",
    "- <u>math score</u>: nota no teste de matemática (valor inteiro de 0 a 100);\n",
    "- <u>reading score</u>: nota no teste de leitura (valor inteiro de 0 a 100);\n",
    "- <u>writing score</u>: nota no teste de escrita (valor inteiro de 0 a 100).\n",
    "\n",
    "Esta é uma base de dados fictícia e deve ser usada apenas para fins educacionais.\n",
    "\n",
    "Disponível em: https://www.kaggle.com/spscientist/students-performance-in-exams\n",
    "\n",
    "#### Resultados\n",
    "\n",
    "A ideia deste documento é mostrar as funcionalidades das duas ferramentas trabalhando juntas. Para efeito de aprendizado, serão levantadas algumas questões entendidas como relevantes e em seguida serão apresentados possíveis gráficos que podem contribuir na resposta de cada uma delas, seguidos de uma breve discussão.\n",
    "\n",
    "    Questões levantadas:\n",
    "\n",
    "1. Qual a média e desvio padrão das notas dos 3 exames de acordo com a escolaridade dos pais dos alunos?\n",
    "\n",
    "2. Considerando a média de aprovação como 70, quantos alunos foram aprovados em todas disciplinas? Destes, qual a porcentagem de quem fez curso preparatório?\n",
    "\n",
    "3. O tipo de almoço do aluno pode ser considerado um fator que contribui para os resultados dos testes?\n",
    "\n",
    "#### Sobre a biblioteca mysql.connector\n",
    "\n",
    "MySQL connector é desenvolvido pelo grupo MySQL na Oracle, escrito inteiramente em Python.\n",
    "\n",
    "#### Referências\n",
    "Python and MySQL Database: A Practical Introduction - https://realpython.com/python-mysql/#comparing-mysql-to-other-sql-databases\n",
    "\n",
    "Getting Started with MySQL in Python - https://www.datacamp.com/community/tutorials/mysql-python\n",
    "\n",
    "MySQL Connector/Python Developer Guide - https://dev.mysql.com/doc/connector-python/en/connector-python-introduction.html\n",
    "\n",
    "Python MySQL Database Connection using MySQL Connector - https://pynative.com/python-mysql-database-connection/#h-how-to-connect-mysql-database-in-python"
   ]
  },
  {
   "cell_type": "markdown",
   "id": "alternate-rebel",
   "metadata": {},
   "source": [
    "\n",
    "#### Importar bibliotecas"
   ]
  },
  {
   "cell_type": "code",
   "execution_count": 3,
   "id": "architectural-weather",
   "metadata": {},
   "outputs": [],
   "source": [
    "import mysql.connector                  # conexão com mysql\n",
    "from mysql.connector import errorcode   # importa as possíveis mensagens de erro\n",
    "import matplotlib.pyplot as plt         # criação de gráficos e visualizações de dados em geral\n",
    "import numpy as np                      # realizar cálculos em arrays multidimensionais\n",
    "import pandas as pd                     # manipulação e análise de dados\n",
    "\n",
    "# a saída dos comandos de plotagem é exibida diretamente abaixo da célula\n",
    "%matplotlib inline"
   ]
  },
  {
   "cell_type": "markdown",
   "id": "requested-reach",
   "metadata": {},
   "source": [
    "#### Abrir conexão com o mysql"
   ]
  },
  {
   "cell_type": "code",
   "execution_count": 4,
   "id": "suitable-owner",
   "metadata": {},
   "outputs": [],
   "source": [
    "# definição das variáveis necessárias para conexão com o mysql\n",
    "host = \"localhost\"\n",
    "user = \"root\"\n",
    "password = \"\"\n",
    "port = 3306\n",
    "\n",
    "\n",
    "# tentativa de conexão, caso não seja possível, uma mensagem aparece informando o erro\n",
    "try:\n",
    "    con = mysql.connector.connect(host=host, user=user, passwd=password, port=port)\n",
    "    \n",
    "except mysql.connector.Error as err:\n",
    "    print(\"Não foi possível abrir conexão com o mysql. Erro apresentado: \\n {}\".format(err))"
   ]
  },
  {
   "cell_type": "markdown",
   "id": "worse-elizabeth",
   "metadata": {},
   "source": [
    "#### Criar database\n",
    "\n",
    "Antes, testar se já existe uma base de dados com o nome escolhido\n",
    "\n",
    "Obs: uma base de dados já conhecida pode ser adicionada como argumento na abertura de conexão com o mysql"
   ]
  },
  {
   "cell_type": "code",
   "execution_count": 9,
   "id": "suspended-picture",
   "metadata": {},
   "outputs": [],
   "source": [
    "# definir nome da base de dados\n",
    "database_name = \"school\"\n",
    "\n",
    "# um objeto 'cursor' é necessário para se comunicar com o mysql e, assim, executar instruções\n",
    "cursor = con.cursor(buffered=True)\n",
    "\n",
    "# o método execute() roda um query e retorna o seu resultado\n",
    "cursor.execute(\"CREATE DATABASE IF NOT EXISTS {}\".format(database_name)) \n",
    "\n",
    "# definir a base de dados a ser utilizada ao longo desse projeto\n",
    "cursor.execute(\"USE {}\".format(database_name)) \n",
    "\n",
    "cursor.close();"
   ]
  },
  {
   "cell_type": "markdown",
   "id": "medical-indonesia",
   "metadata": {},
   "source": [
    "#### Criar tabela"
   ]
  },
  {
   "cell_type": "code",
   "execution_count": 10,
   "id": "advisory-memory",
   "metadata": {},
   "outputs": [],
   "source": [
    "# definir nome da tabela\n",
    "table_name = \"studentsperformance\"\n",
    "\n",
    "# criar um objeto 'cursor'\n",
    "with con.cursor(buffered=True) as cursor:\n",
    "    # comando para criar tabela\n",
    "    cursor.execute(\"\"\"CREATE TABLE IF NOT EXISTS {} \n",
    "               (gender VARCHAR(6), \n",
    "                race_ethnicity VARCHAR(7), \n",
    "                parental_level_of_education VARCHAR(18), \n",
    "                lunch VARCHAR(12), \n",
    "                test_preparation_course VARCHAR(9), \n",
    "                math_score INT, \n",
    "                reading_score INT, \n",
    "                writing_score INT)\"\"\".format(table_name))"
   ]
  },
  {
   "cell_type": "markdown",
   "id": "crude-avatar",
   "metadata": {},
   "source": [
    "#### Inserir dados na tabela\n",
    "\n",
    "A base de dados original conta com 1000 linhas, mas neste projeto só serão carregados os primeiros 100 registros."
   ]
  },
  {
   "cell_type": "code",
   "execution_count": 11,
   "id": "established-laugh",
   "metadata": {},
   "outputs": [],
   "source": [
    "# definir query\n",
    "query = \"INSERT INTO studentsperformance VALUES (%s, %s, %s, %s, %s, %s, %s, %s)\"\n",
    "\n",
    "# colocar em uma variável todos os valores a serem adicionados\n",
    "values = [\n",
    "    ('female','group B','bachelor''s degree','standard','none',72,72,74),\n",
    "    ('female','group C','some college','standard','completed',69,90,88),\n",
    "    ('female','group B','master''s degree','standard','none',90,95,93),\n",
    "    ('male','group A','associate''s degree','free/reduced','none',47,57,44),\n",
    "    ('male','group C','some college','standard','none',76,78,75),\n",
    "    ('female','group B','associate''s degree','standard','none',71,83,78),\n",
    "    ('female','group B','some college','standard','completed',88,95,92),\n",
    "    ('male','group B','some college','free/reduced','none',40,43,39),\n",
    "    ('male','group D','high school','free/reduced','completed',64,64,67),\n",
    "    ('female','group B','high school','free/reduced','none',38,60,50),\n",
    "    ('male','group C','associate''s degree','standard','none',58,54,52),\n",
    "    ('male','group D','associate''s degree','standard','none',40,52,43),\n",
    "    ('female','group B','high school','standard','none',65,81,73),\n",
    "    ('male','group A','some college','standard','completed',78,72,70),\n",
    "    ('female','group A','master''s degree','standard','none',50,53,58),\n",
    "    ('female','group C','some high school','standard','none',69,75,78),\n",
    "    ('male','group C','high school','standard','none',88,89,86),\n",
    "    ('female','group B','some high school','free/reduced','none',18,32,28),\n",
    "    ('male','group C','master''s degree','free/reduced','completed',46,42,46),\n",
    "    ('female','group C','associate''s degree','free/reduced','none',54,58,61),\n",
    "    ('male','group D','high school','standard','none',66,69,63),\n",
    "    ('female','group B','some college','free/reduced','completed',65,75,70),\n",
    "    ('male','group D','some college','standard','none',44,54,53),\n",
    "    ('female','group C','some high school','standard','none',69,73,73),\n",
    "    ('male','group D','bachelor''s degree','free/reduced','completed',74,71,80),\n",
    "    ('male','group A','master''s degree','free/reduced','none',73,74,72),\n",
    "    ('male','group B','some college','standard','none',69,54,55),\n",
    "    ('female','group C','bachelor''s degree','standard','none',67,69,75),\n",
    "    ('male','group C','high school','standard','none',70,70,65),\n",
    "    ('female','group D','master''s degree','standard','none',62,70,75),\n",
    "    ('female','group D','some college','standard','none',69,74,74),\n",
    "    ('female','group B','some college','standard','none',63,65,61),\n",
    "    ('female','group E','master''s degree','free/reduced','none',56,72,65),\n",
    "    ('male','group D','some college','standard','none',40,42,38),\n",
    "    ('male','group E','some college','standard','none',97,87,82),\n",
    "    ('male','group E','associate''s degree','standard','completed',81,81,79),\n",
    "    ('female','group D','associate''s degree','standard','none',74,81,83),\n",
    "    ('female','group D','some high school','free/reduced','none',50,64,59),\n",
    "    ('female','group D','associate''s degree','free/reduced','completed',75,90,88),\n",
    "    ('male','group B','associate''s degree','free/reduced','none',57,56,57),\n",
    "    ('male','group C','associate''s degree','free/reduced','none',55,61,54),\n",
    "    ('female','group C','associate''s degree','standard','none',58,73,68),\n",
    "    ('female','group B','associate''s degree','standard','none',53,58,65),\n",
    "    ('male','group B','some college','free/reduced','completed',59,65,66),\n",
    "    ('female','group E','associate''s degree','free/reduced','none',50,56,54),\n",
    "    ('male','group B','associate''s degree','standard','none',65,54,57),\n",
    "    ('female','group A','associate''s degree','standard','completed',55,65,62),\n",
    "    ('female','group C','high school','standard','none',66,71,76),\n",
    "    ('female','group D','associate''s degree','free/reduced','completed',57,74,76),\n",
    "    ('male','group C','high school','standard','completed',82,84,82),\n",
    "    ('male','group E','some college','standard','none',53,55,48),\n",
    "    ('male','group E','associate''s degree','free/reduced','completed',77,69,68),\n",
    "    ('male','group C','some college','standard','none',53,44,42),\n",
    "    ('male','group D','high school','standard','none',88,78,75),\n",
    "    ('female','group C','some high school','free/reduced','completed',71,84,87),\n",
    "    ('female','group C','high school','free/reduced','none',33,41,43),\n",
    "    ('female','group E','associate''s degree','standard','completed',82,85,86),\n",
    "    ('male','group D','associate''s degree','standard','none',52,55,49),\n",
    "    ('male','group D','some college','standard','completed',58,59,58),\n",
    "    ('female','group C','some high school','free/reduced','none',0,17,10),\n",
    "    ('male','group E','bachelor''s degree','free/reduced','completed',79,74,72),\n",
    "    ('male','group A','some high school','free/reduced','none',39,39,34),\n",
    "    ('male','group A','associate''s degree','free/reduced','none',62,61,55),\n",
    "    ('female','group C','associate''s degree','standard','none',69,80,71),\n",
    "    ('female','group D','some high school','standard','none',59,58,59),\n",
    "    ('male','group B','some high school','standard','none',67,64,61),\n",
    "    ('male','group D','some high school','free/reduced','none',45,37,37),\n",
    "    ('female','group C','some college','standard','none',60,72,74),\n",
    "    ('male','group B','associate''s degree','free/reduced','none',61,58,56),\n",
    "    ('female','group C','associate''s degree','standard','none',39,64,57),\n",
    "    ('female','group D','some college','free/reduced','completed',58,63,73),\n",
    "    ('male','group D','some college','standard','completed',63,55,63),\n",
    "    ('female','group A','associate''s degree','free/reduced','none',41,51,48),\n",
    "    ('male','group C','some high school','free/reduced','none',61,57,56),\n",
    "    ('male','group C','some high school','standard','none',49,49,41),\n",
    "    ('male','group B','associate''s degree','free/reduced','none',44,41,38),\n",
    "    ('male','group E','some high school','standard','none',30,26,22),\n",
    "    ('male','group A','bachelor''s degree','standard','completed',80,78,81),\n",
    "    ('female','group D','some high school','standard','completed',61,74,72),\n",
    "    ('female','group E','master''s degree','standard','none',62,68,68),\n",
    "    ('female','group B','associate''s degree','standard','none',47,49,50),\n",
    "    ('male','group B','high school','free/reduced','none',49,45,45),\n",
    "    ('male','group A','some college','free/reduced','completed',50,47,54),\n",
    "    ('male','group E','associate''s degree','standard','none',72,64,63),\n",
    "    ('male','group D','high school','free/reduced','none',42,39,34),\n",
    "    ('female','group C','some college','standard','none',73,80,82),\n",
    "    ('female','group C','some college','free/reduced','none',76,83,88),\n",
    "    ('female','group D','associate''s degree','standard','none',71,71,74),\n",
    "    ('female','group A','some college','standard','none',58,70,67),\n",
    "    ('female','group D','some high school','standard','none',73,86,82),\n",
    "    ('female','group C','bachelor''s degree','standard','none',65,72,74),\n",
    "    ('male','group C','high school','free/reduced','none',27,34,36),\n",
    "    ('male','group C','high school','standard','none',71,79,71),\n",
    "    ('male','group C','associate''s degree','free/reduced','completed',43,45,50),\n",
    "    ('female','group B','some college','standard','none',79,86,92),\n",
    "    ('male','group C','associate''s degree','free/reduced','completed',78,81,82),\n",
    "    ('male','group B','some high school','standard','completed',65,66,62),\n",
    "    ('female','group E','some college','standard','completed',63,72,70),\n",
    "    ('female','group D','some college','free/reduced','none',58,67,62),\n",
    "    ('female','group D','bachelor''s degree','standard','none',65,67,62)\n",
    "]\n",
    "\n",
    "# criar um objeto 'cursor'\n",
    "with con.cursor(buffered=True) as cursor:\n",
    "    # executar comando para inserir dados\n",
    "    cursor.executemany(query, values)\n",
    "\n",
    "    # envia uma instrução commit para o servidor mysql, confirmando a transação atual\n",
    "    con.commit()"
   ]
  },
  {
   "cell_type": "markdown",
   "id": "healthy-georgia",
   "metadata": {},
   "source": [
    "#### Possíveis modificações que podem ser feitas na tabela\n",
    "\n",
    "##### 1. Garantir que as informações adicionadas condizem com o esperado\n",
    "\n",
    "Exemplo: adicionar restrição para as notas (valor inserido deve estar entre 0 e 100)"
   ]
  },
  {
   "cell_type": "code",
   "execution_count": 12,
   "id": "active-opportunity",
   "metadata": {},
   "outputs": [
    {
     "name": "stdout",
     "output_type": "stream",
     "text": [
      "Não foi possível alterar o valor do atributo. Erro apresentado: \n",
      " 3819 (HY000): Check constraint 'score_limits' is violated.\n"
     ]
    }
   ],
   "source": [
    "# definir query que adiciona restrição\n",
    "query = \"\"\"ALTER TABLE {} \n",
    "        ADD CONSTRAINT score_limits \n",
    "        CHECK(math_score>=0 AND math_score<=100)\"\"\".format(table_name)\n",
    "\n",
    "# criar um objeto 'cursor'\n",
    "with con.cursor(buffered=True) as cursor:\n",
    "    # tenta executar comando\n",
    "    try:\n",
    "        cursor.execute(query)\n",
    "        con.commit()\n",
    "    except mysql.connector.Error as err:\n",
    "        print(\"Não foi possível alterar a tabela. Erro apresentado: \\n {}\".format(err))\n",
    "\n",
    "# ------------------------\n",
    "\n",
    "# definir query que tenta modificar uma tupla para math_score>100\n",
    "query = \"UPDATE {} SET math_score=101 WHERE math_score=0\".format(table_name)\n",
    "\n",
    "# criar um objeto 'cursor'\n",
    "with con.cursor(buffered=True) as cursor:\n",
    "    # tenta executar comando\n",
    "    try:\n",
    "        cursor.execute(query)\n",
    "        con.commit()\n",
    "    except mysql.connector.Error as err:\n",
    "        print(\"Não foi possível alterar o valor do atributo. Erro apresentado: \\n {}\".format(err))"
   ]
  },
  {
   "cell_type": "markdown",
   "id": "postal-nightmare",
   "metadata": {},
   "source": [
    "##### 2. Alterar o tipo de dados de algum atributo visando otimização\n",
    "\n",
    "Exemplo: como a nota varia entre 0 e 100, o atributo pode ser do tipo TINYINT (ocupando menos espaço que o tipo INT)\n",
    "\n",
    "Obs: apenas está sendo modificado o atributo 'math_score'"
   ]
  },
  {
   "cell_type": "code",
   "execution_count": 13,
   "id": "widespread-nursing",
   "metadata": {},
   "outputs": [
    {
     "name": "stdout",
     "output_type": "stream",
     "text": [
      "Antes:\n",
      "('gender', 'varchar')\n",
      "('lunch', 'varchar')\n",
      "('math_score', 'int')\n",
      "('parental_level_of_education', 'varchar')\n",
      "('race_ethnicity', 'varchar')\n",
      "('reading_score', 'int')\n",
      "('test_preparation_course', 'varchar')\n",
      "('writing_score', 'int')\n",
      "\n",
      "Depois:\n",
      "('gender', 'varchar')\n",
      "('lunch', 'varchar')\n",
      "('math_score', 'tinyint')\n",
      "('parental_level_of_education', 'varchar')\n",
      "('race_ethnicity', 'varchar')\n",
      "('reading_score', 'int')\n",
      "('test_preparation_course', 'varchar')\n",
      "('writing_score', 'int')\n"
     ]
    }
   ],
   "source": [
    "# criar um objeto 'cursor'\n",
    "with con.cursor(buffered=True) as cursor:\n",
    "    \n",
    "    # ------------------------ antes de modificar\n",
    "\n",
    "    # definir e executar query para ver todos os atributos e seus respectivos tipos\n",
    "    query = \"\"\"SELECT COLUMN_NAME, DATA_TYPE \n",
    "        FROM INFORMATION_SCHEMA.COLUMNS \n",
    "        WHERE table_schema = '{}' AND table_name = '{}'\"\"\".format(database_name, table_name) \n",
    "    cursor.execute(query)\n",
    "\n",
    "    # mostrar atributos + tipo\n",
    "    result = cursor.fetchall()\n",
    "    print(\"Antes:\")\n",
    "    for x in result:\n",
    "      print(x)\n",
    "   \n",
    "    \n",
    "    # ------------------------ modificar tipo do atributo \n",
    "\n",
    "    # definir e executar query\n",
    "    query = \"ALTER TABLE {} MODIFY COLUMN math_score TINYINT\".format(table_name)\n",
    "    try:\n",
    "        cursor.execute(query)\n",
    "        con.commit()\n",
    "    except mysql.connector.Error as err:\n",
    "        print(\"Não foi possível alterar a tabela. Erro apresentado: \\n {}\".format(err))\n",
    "    \n",
    "\n",
    "    # ------------------------ após modificar\n",
    "\n",
    "    # definir e executar query para ver todos os atributos e seus respectivos tipos\n",
    "    query = \"\"\"SELECT COLUMN_NAME, DATA_TYPE \n",
    "            FROM INFORMATION_SCHEMA.COLUMNS \n",
    "            WHERE table_schema = '{}' AND table_name = '{}'\"\"\".format(database_name, table_name)\n",
    "    cursor.execute(query)\n",
    "\n",
    "    # mostrar atributos + tipo\n",
    "    result = cursor.fetchall()\n",
    "    print(\"\\nDepois:\")\n",
    "    for x in result:\n",
    "      print(x)"
   ]
  },
  {
   "cell_type": "markdown",
   "id": "indirect-oliver",
   "metadata": {},
   "source": [
    "#### Respostas das questões\n",
    "\n",
    "Nesta parte será usada o comando \"read_sql\" da biblioteca pandas, essa função é capaz de armazenar o resultado de uma consulta SQL em um DataFrame\n",
    "\n",
    "Mais detalhes: https://pandas.pydata.org/docs/reference/api/pandas.read_sql.html\n",
    "\n",
    "##### 1. Qual a média e desvio padrão das notas dos 3 exames de acordo com a escolaridade dos pais dos alunos?"
   ]
  },
  {
   "cell_type": "code",
   "execution_count": 14,
   "id": "protecting-coffee",
   "metadata": {
    "scrolled": true
   },
   "outputs": [
    {
     "data": {
      "image/png": "[encoded data removed]",
      "text/plain": [
       "<Figure size 432x288 with 1 Axes>"
      ]
     },
     "metadata": {
      "needs_background": "light"
     },
     "output_type": "display_data"
    }
   ],
   "source": [
    "# definir query\n",
    "query = \"\"\"SELECT parental_level_of_education, \n",
    "        AVG(math_score), AVG(reading_score), AVG(writing_score),\n",
    "        STD(math_score), STD(reading_score), STD(writing_score)\n",
    "        FROM studentsperformance\n",
    "        GROUP BY parental_level_of_education\n",
    "        ORDER BY parental_level_of_education\"\"\"\n",
    "\n",
    "\n",
    "# executar comando e armazenar resultado\n",
    "result = pd.read_sql(query, con)\n",
    "\n",
    "\n",
    "# para usar o parâmetro yerr, se faz necessário uma modificação na estrutura do data frame\n",
    "# mais detalhes sobre:\n",
    "# https://stackoverflow.com/questions/23144784/plotting-error-bars-on-grouped-bars-in-pandas\n",
    "# https://stackoverflow.com/questions/23000418/adding-error-bars-to-grouped-bar-plot-in-panda\n",
    "yerr = result[['STD(math_score)','STD(reading_score)','STD(writing_score)']].to_numpy().T\n",
    "\n",
    "\n",
    "# visualizar resultado\n",
    "result.plot(kind = 'bar', \n",
    "            x = \"parental_level_of_education\", \n",
    "            y = [\"AVG(math_score)\", \"AVG(reading_score)\", \"AVG(writing_score)\"],\n",
    "            yerr = yerr)\n",
    "\n",
    "\n",
    "# configurações do plot\n",
    "plt.title(\"Média e desvio padrão das notas dos alunos de acordo com a escolaridade dos seus pais\")\n",
    "plt.xlabel(\"Escolaridade dos pais\")\n",
    "plt.xticks(rotation=30, horizontalalignment=\"center\")\n",
    "plt.ylabel(\"Nota\")\n",
    "plt.legend(bbox_to_anchor=(1, 1))\n",
    "\n",
    "plt.show()"
   ]
  },
  {
   "cell_type": "markdown",
   "id": "gorgeous-kingdom",
   "metadata": {},
   "source": [
    "### Discussão - Questão 1\n",
    "\n",
    "As médias das notas dos alunos com os pais de maior grau de escolaridade (*masters degree*) estão próximas dos outros alunos, sendo um pouco maior do que aqueles de pais com *high school* e um pouco menor do que aqueles de pais com *bachelors degree*. Ou seja, um maior grau de escolaridade dos pais do aluno não necessariamente implica em uma melhor nota nos exames. \n",
    "\n",
    "Por outro lado, os alunos com os pais de menor grau de escolaridade (*some high school*) são os que apresentam menor média nos três exames. Qualquer afirmação em cima dessa informação necessita de verificação por análise estatística, além de considerações de influência de outros fatores, exemplo: sociais e econômicos.\n"
   ]
  },
  {
   "cell_type": "markdown",
   "id": "silent-colombia",
   "metadata": {},
   "source": [
    "##### 2. Considerando a média de aprovação como 70, quantos alunos foram aprovados em todas disciplinas? Destes, qual a porcentagem de quem fez curso preparatório?"
   ]
  },
  {
   "cell_type": "code",
   "execution_count": 17,
   "id": "addressed-mentor",
   "metadata": {
    "scrolled": false
   },
   "outputs": [
    {
     "data": {
      "image/png": "[encoded data removed]",
      "text/plain": [
       "<Figure size 432x288 with 1 Axes>"
      ]
     },
     "metadata": {},
     "output_type": "display_data"
    },
    {
     "data": {
      "image/png": "[encoded data removed]",
      "text/plain": [
       "<Figure size 432x288 with 1 Axes>"
      ]
     },
     "metadata": {},
     "output_type": "display_data"
    }
   ],
   "source": [
    "# definir nota de aprovação\n",
    "media = 70\n",
    "\n",
    "\n",
    "# computar total de registros\n",
    "total = pd.read_sql(\"\"\"SELECT COUNT(*) FROM studentsperformance\"\"\", con) \n",
    "total = total.iloc[0][0]\n",
    "\n",
    "\n",
    "# definir query - alunos aprovados nos 3 exames, de acordo com o curso preparatório\n",
    "query = \"\"\"SELECT test_preparation_course, COUNT(*)\n",
    "        FROM studentsperformance\n",
    "        WHERE math_score>= {} AND reading_score>= {} AND writing_score>= {}\n",
    "        GROUP BY test_preparation_course\n",
    "        ORDER BY test_preparation_course\n",
    "        \"\"\".format(media, media, media)\n",
    "\n",
    "\n",
    "# executar comando e armazenar resultado\n",
    "result = pd.read_sql(query, con)\n",
    "\n",
    "\n",
    "# extrair total de alunos que se aplicam na condição\n",
    "total_fez_curso = result['COUNT(*)'].sum()\n",
    "\n",
    "\n",
    "# ------------------------ plot 1: Proporção dos alunos aprovados nos 3 exames\n",
    "\n",
    "# definições para o plot\n",
    "y = [total_fez_curso, total-total_fez_curso]\n",
    "legenda1 = ['APROVADO EM TODAS', 'NÃO APROVADO EM PELO MENOS UMA']\n",
    "explode = (0.1, 0)\n",
    "\n",
    "plt.pie(y, autopct='%1.0f%%', labels=legenda1, startangle=90, explode=explode)\n",
    "plt.title(\"Proporção dos alunos aprovados nos 3 exames\")\n",
    "\n",
    "\n",
    "# ------------------------ plot 2: Aprovação por realização de curso preparatório\n",
    "\n",
    "# definições para o plot\n",
    "legenda2 = ['FEZ CURSO', 'NÃO FEZ CURSO']\n",
    "\n",
    "result.plot(kind='pie', y=\"COUNT(*)\", autopct='%1.0f%%', labels=legenda2, legend = None, startangle=90)\n",
    "plt.title(\"Proporção da realização de curso preparatório dentre os alunos aprovados nos 3 exames\")\n",
    "plt.ylabel(\"\")\n",
    "\n",
    "\n",
    "\n",
    "plt.show()"
   ]
  },
  {
   "cell_type": "markdown",
   "id": "toxic-candle",
   "metadata": {},
   "source": [
    "### Discussão - Questão 2\n",
    "\n",
    "Do total, 26% dos alunos foram aprovados nos três exames. Desses, apenas 42% fizeram o curso preparatório. Ou seja, de modo geral, a realização de um curso preparatório não é um bom fator para relacionar à aprovação dos exames, já que a minoria daqueles aprovados fizeram o curso."
   ]
  },
  {
   "cell_type": "markdown",
   "id": "resident-harvest",
   "metadata": {},
   "source": [
    "##### 3. O tipo de almoço do aluno pode ser considerado um fator que contribui para os resultados dos testes?"
   ]
  },
  {
   "cell_type": "code",
   "execution_count": 10,
   "id": "wound-joshua",
   "metadata": {
    "scrolled": false
   },
   "outputs": [
    {
     "data": {
      "image/png": "[encoded data removed]",
      "text/plain": [
       "<Figure size 432x288 with 1 Axes>"
      ]
     },
     "metadata": {
      "needs_background": "light"
     },
     "output_type": "display_data"
    },
    {
     "data": {
      "image/png": "[encoded data removed]",
      "text/plain": [
       "<Figure size 432x288 with 1 Axes>"
      ]
     },
     "metadata": {
      "needs_background": "light"
     },
     "output_type": "display_data"
    },
    {
     "data": {
      "image/png": "[encoded data removed]",
      "text/plain": [
       "<Figure size 432x288 with 1 Axes>"
      ]
     },
     "metadata": {
      "needs_background": "light"
     },
     "output_type": "display_data"
    }
   ],
   "source": [
    "# definir query\n",
    "query = \"\"\"SELECT lunch, math_score, reading_score, writing_score\n",
    "        FROM studentsperformance\n",
    "        ORDER BY lunch\"\"\"\n",
    "\n",
    "# executar comando e armazenar resultado\n",
    "result = pd.read_sql(query, con)\n",
    "\n",
    "\n",
    "\n",
    "# ------------------------ plot 1: visualizar resultado para math_score\n",
    "result.boxplot(column=\"math_score\", by=\"lunch\", grid=False)\n",
    "\n",
    "# configurações do plot 1\n",
    "plt.title(\"Boxplot de math_score de acordo com o tipo de almoço do aluno \\n\")\n",
    "plt.suptitle('')\n",
    "plt.xlabel(\"Tipo de almoço\")\n",
    "plt.ylabel(\"math_score\")\n",
    "\n",
    "\n",
    "# ------------------------ plot 2: visualizar resultado para reading_score\n",
    "result.boxplot(column=\"reading_score\", by=\"lunch\", grid=False)\n",
    "\n",
    "# configurações do plot 2\n",
    "plt.title(\"Boxplot de reading_score de acordo com o tipo de almoço do aluno \\n\")\n",
    "plt.suptitle('')\n",
    "plt.xlabel(\"Tipo de almoço\")\n",
    "plt.ylabel(\"reading_score\")\n",
    "\n",
    "\n",
    "# ------------------------ plot 3: visualizar resultado para writing_score\n",
    "result.boxplot(column=\"writing_score\", by=\"lunch\", grid=False)\n",
    "\n",
    "# configurações do plot 3\n",
    "plt.title(\"Boxplot de writing_score de acordo com o tipo de almoço do aluno \\n\")\n",
    "plt.suptitle('')\n",
    "plt.xlabel(\"Tipo de almoço\")\n",
    "plt.ylabel(\"writing_score\")\n",
    "\n",
    "\n",
    "\n",
    "plt.show()"
   ]
  },
  {
   "cell_type": "markdown",
   "id": "latter-ghost",
   "metadata": {},
   "source": [
    "### Discussão - Questão 3\n",
    "\n",
    "Enquanto a mediana das notas nos três exames dos alunos que possuem *free/reduced* como tipo de almoço se encontra entre 50 e 60, pelo menos 75% (ver primeiro quartil) dos alunos com almoço *standard* possuem nota acima desse valor.\n",
    "\n",
    "Então, o tipo de almoço pode ser um fator a ser considerado na análise da performance dos alunos nos exames.\n",
    "\n",
    "### Discussão Final\n",
    "\n",
    "Os resultados obtidos levantam interessantes discussões sobre o que pode influenciar na performance dos alunos nos exames, como fatores sociais, econômicos e familiares. Porém, para maiores afirmações, se fazem necessárias outras análises estatísticas para comparar a relevância das diferentes observações. \n",
    "\n",
    "Atendo-se ao objetivo de mostrar as funcionalidades do Python e MySQL em conjunto, essas discussões não serão continuadas nesse projeto."
   ]
  },
  {
   "cell_type": "markdown",
   "id": "numerous-beauty",
   "metadata": {},
   "source": [
    "#### Autor: Pedro Lima, em jan/2022\n",
    "\n",
    "LinkedIn: https://www.linkedin.com/in/pedro-vitorlima/\n",
    "\n",
    "Github: https://github.com/peuvitor"
   ]
  }
 ],
 "metadata": {
  "kernelspec": {
   "display_name": "Python 3",
   "language": "python",
   "name": "python3"
  },
  "language_info": {
   "codemirror_mode": {
    "name": "ipython",
    "version": 3
   },
   "file_extension": ".py",
   "mimetype": "text/x-python",
   "name": "python",
   "nbconvert_exporter": "python",
   "pygments_lexer": "ipython3",
   "version": "3.9.1"
  }
 },
 "nbformat": 4,
 "nbformat_minor": 5
}
